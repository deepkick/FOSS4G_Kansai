{
 "cells": [
  {
   "cell_type": "markdown",
   "metadata": {},
   "source": [
    "# Data preparation\n",
    "## Source dataset\n",
    "ISPRS Vaihingen Dataset is provided by Commission III of the ISPRS. The dataset is composed of 9 cm spatial resolution\n",
    "aerial imagery with red and green bands. Dataset includes 16 labeled scenes which cover roughly 0.6 km2.\n",
    "Labels are provided for 6 classes: impervious surface, building, low vegetation, tree, car and clutter/background. Usually, clutter/background class are ignored because the amount of labels are very limited.\n",
    "## Check data"
   ]
  },
  {
   "cell_type": "code",
   "execution_count": 1,
   "metadata": {},
   "outputs": [
    {
     "name": "stdout",
     "output_type": "stream",
     "text": [
      "['./dataset/isprs_vaihingen/train/label/', './dataset/isprs_vaihingen/train/label_rgb/', './dataset/isprs_vaihingen/train/image/']\n"
     ]
    }
   ],
   "source": [
    "import glob\n",
    "print(glob.glob('./dataset/isprs_vaihingen/train/*/'))"
   ]
  },
  {
   "cell_type": "code",
   "execution_count": 2,
   "metadata": {},
   "outputs": [
    {
     "name": "stdout",
     "output_type": "stream",
     "text": [
      "['./dataset/isprs_vaihingen/val/label/', './dataset/isprs_vaihingen/val/label_rgb/', './dataset/isprs_vaihingen/val/image/']\n"
     ]
    }
   ],
   "source": [
    "print(glob.glob('./dataset/isprs_vaihingen/val/*/'))"
   ]
  },
  {
   "cell_type": "code",
   "execution_count": 3,
   "metadata": {},
   "outputs": [
    {
     "name": "stdout",
     "output_type": "stream",
     "text": [
      "['./dataset/isprs_vaihingen/test/label/', './dataset/isprs_vaihingen/test/label_rgb/', './dataset/isprs_vaihingen/test/image/']\n"
     ]
    }
   ],
   "source": [
    "print(glob.glob('./dataset/isprs_vaihingen/test/*/'))"
   ]
  },
  {
   "cell_type": "markdown",
   "metadata": {},
   "source": [
    "### Check training images and labels"
   ]
  },
  {
   "cell_type": "code",
   "execution_count": 2,
   "metadata": {},
   "outputs": [],
   "source": [
    "from PIL import Image\n",
    "import numpy as np"
   ]
  },
  {
   "cell_type": "markdown",
   "metadata": {},
   "source": [
    "Read image as ndarray using PIL"
   ]
  },
  {
   "cell_type": "code",
   "execution_count": 3,
   "metadata": {},
   "outputs": [],
   "source": [
    "image = np.array(Image.open('./dataset/isprs_vaihingen/train/image/top_mosaic_09cm_area21.tif'))\n",
    "label = np.array(Image.open('./dataset/isprs_vaihingen/train/label_rgb/top_mosaic_09cm_area21.tif'))"
   ]
  },
  {
   "cell_type": "code",
   "execution_count": null,
   "metadata": {},
   "outputs": [],
   "source": [
    "print(image.shape)\n",
    "print(label.shape)"
   ]
  },
  {
   "cell_type": "code",
   "execution_count": null,
   "metadata": {},
   "outputs": [],
   "source": [
    "# import matplotlib\n",
    "%matplotlib inline\n",
    "import matplotlib.pyplot as plt\n",
    "\n",
    "# ignore annoying warnings\n",
    "import warnings\n",
    "warnings.filterwarnings('ignore')\n",
    "\n",
    "fig = plt.figure()\n",
    "ax = fig.add_subplot(121)\n",
    "ax.imshow(image, interpolation='none')\n",
    "ax.set_xticks([])\n",
    "ax.set_yticks([])\n",
    "ax.set_title('Image')\n",
    "fig.show()\n",
    "\n",
    "ax = fig.add_subplot(122)\n",
    "ax.imshow(label, interpolation='none')\n",
    "ax.set_xticks([])\n",
    "ax.set_yticks([])\n",
    "ax.set_title('Label')\n",
    "\n",
    "fig.suptitle('Scene: top_mosaic_09cm_area1')\n",
    "fig.show()\n",
    "\n"
   ]
  },
  {
   "cell_type": "markdown",
   "metadata": {},
   "source": [
    "Class labels are as follows <br>\n",
    "0: Impervious surface (white)<br>\n",
    "1: building (blue)<br>\n",
    "2: low vegetation (cyan)<br>\n",
    "3: tree (green)<br>\n",
    "4: car (yellow)<br>"
   ]
  },
  {
   "cell_type": "markdown",
   "metadata": {},
   "source": [
    "## Pre-processing\n",
    "In order to apply deep learning methods, we need to do some pre-processing as follows.\n",
    "* Cropping\n",
    "* Normalization\n",
    "\n",
    "## Cropping\n",
    "Now, our training image (area1) has the size of $1919\\times2569$. As you know, it is common that remote sensing imagery have such a large size. One problem is that deep learning methods cannnot be directly applied for such large images because the methods are usually memory consuming. It is often the case that one model requires several GB RAM memory to process patches of size $256\\times256$. In order to apply deep learning to remote sensing imagery, we need to crop small patches from the large images. Here, we demonstrate how to do that."
   ]
  },
  {
   "cell_type": "markdown",
   "metadata": {},
   "source": [
    "### Crop single patch randomly\n",
    "In the following, we randomly crop the training patches of size $256\\times256$ from training images and labels. First, we demonstrate cropping of single patch from the original large images."
   ]
  },
  {
   "cell_type": "markdown",
   "metadata": {},
   "source": [
    "Set file path for the training images and the corresponding labels."
   ]
  },
  {
   "cell_type": "code",
   "execution_count": 7,
   "metadata": {},
   "outputs": [],
   "source": [
    "fpath_train_image1 = './dataset/isprs_vaihingen/train/image/top_mosaic_09cm_area21.tif'\n",
    "fpath_train_image2 = './dataset/isprs_vaihingen/train/image/top_mosaic_09cm_area7.tif'\n",
    "fpath_train_label1 = './dataset/isprs_vaihingen/train/label/top_mosaic_09cm_area21.tif'\n",
    "fpath_train_label2 = './dataset/isprs_vaihingen/train/label/top_mosaic_09cm_area7.tif'"
   ]
  },
  {
   "cell_type": "markdown",
   "metadata": {},
   "source": [
    "Import modules"
   ]
  },
  {
   "cell_type": "code",
   "execution_count": 8,
   "metadata": {},
   "outputs": [],
   "source": [
    "import glob\n",
    "import random\n",
    "from PIL import Image\n",
    "import numpy as np"
   ]
  },
  {
   "cell_type": "markdown",
   "metadata": {},
   "source": [
    "Load training images and labels"
   ]
  },
  {
   "cell_type": "code",
   "execution_count": 9,
   "metadata": {},
   "outputs": [],
   "source": [
    "image1 = np.array(Image.open(fpath_train_image1))\n",
    "image2 = np.array(Image.open(fpath_train_image2))\n",
    "label1 = np.array(Image.open(fpath_train_label1))\n",
    "label2 = np.array(Image.open(fpath_train_label2))"
   ]
  },
  {
   "cell_type": "markdown",
   "metadata": {},
   "source": [
    "Arrange image and label pair into list"
   ]
  },
  {
   "cell_type": "code",
   "execution_count": null,
   "metadata": {},
   "outputs": [],
   "source": [
    "list_data = [\n",
    "    ['top_mosaic_09cm_area21', image1, label1],\n",
    "    ['top_mosaic_09cm_area7' , image2, label2],\n",
    "]"
   ]
  },
  {
   "cell_type": "markdown",
   "metadata": {},
   "source": [
    "Randomly select a target scene from the list of training scene"
   ]
  },
  {
   "cell_type": "code",
   "execution_count": null,
   "metadata": {},
   "outputs": [],
   "source": [
    "name, image, label = random.choice(list_data)"
   ]
  },
  {
   "cell_type": "markdown",
   "metadata": {},
   "source": [
    "Select crop position randomly"
   ]
  },
  {
   "cell_type": "code",
   "execution_count": null,
   "metadata": {},
   "outputs": [],
   "source": [
    "height, width, _ = image.shape\n",
    "patch_size = 256\n",
    "ulx = random.randrange(0, width - patch_size + 1)\n",
    "uly = random.randrange(0, height - patch_size + 1)"
   ]
  },
  {
   "cell_type": "markdown",
   "metadata": {},
   "source": [
    "Crop a patch pair"
   ]
  },
  {
   "cell_type": "code",
   "execution_count": null,
   "metadata": {},
   "outputs": [],
   "source": [
    "image_patch = image[uly:uly+patch_size, ulx:ulx+patch_size, :]\n",
    "label_patch = label[uly:uly+patch_size, ulx:ulx+patch_size]"
   ]
  },
  {
   "cell_type": "markdown",
   "metadata": {},
   "source": [
    "Now, we have cropped a patch pair of size $256\\times256$. Let's check if the patches are correctly cropped by showing them."
   ]
  },
  {
   "cell_type": "code",
   "execution_count": null,
   "metadata": {},
   "outputs": [],
   "source": [
    "fig = plt.figure()\n",
    "ax = fig.add_subplot(121)\n",
    "ax.imshow(image_patch, interpolation='none')\n",
    "ax.set_xticks([])\n",
    "ax.set_yticks([])\n",
    "fig.show()\n",
    "ax.set_title('Image patch')\n",
    "\n",
    "ax = fig.add_subplot(122)\n",
    "ax.imshow(label_patch, interpolation='none')\n",
    "ax.set_xticks([])\n",
    "ax.set_yticks([])\n",
    "ax.set_title('Label patch')\n",
    "\n",
    "fig.suptitle('Scene: %s at (%d,%d)-(%d,%d)' % (name, ulx, uly, ulx+patch_size, uly+patch_size))\n",
    "fig.show()\n"
   ]
  },
  {
   "cell_type": "markdown",
   "metadata": {},
   "source": [
    "Neural networks take as input the image patch on the left, and output corresponding classification result.\n",
    "The goal of training is to optimize the network parameters so that the output of the network become close to the true label on the right.\n",
    "In order to train networks that generalize to unseen images, we need variety of such training patch pairs so that the networks can learn variety of patterns. So, in the following, we crop multiple patches from the training scenes."
   ]
  },
  {
   "cell_type": "markdown",
   "metadata": {},
   "source": [
    "### Crop multiple patches randomly\n",
    " As stated above, here we crop multiple patches from the training scenes. Basically, we just apply the same procedure as above iteratively."
   ]
  },
  {
   "cell_type": "markdown",
   "metadata": {},
   "source": [
    "Settings for the cropping"
   ]
  },
  {
   "cell_type": "code",
   "execution_count": null,
   "metadata": {},
   "outputs": [],
   "source": [
    "num_patches = 750\n",
    "patch_size = 256"
   ]
  },
  {
   "cell_type": "markdown",
   "metadata": {},
   "source": [
    "Define place holders for containing cropped patches"
   ]
  },
  {
   "cell_type": "code",
   "execution_count": null,
   "metadata": {},
   "outputs": [],
   "source": [
    "list_image_patches = []\n",
    "list_label_patches = []"
   ]
  },
  {
   "cell_type": "markdown",
   "metadata": {},
   "source": [
    "Iterate the random cropping untile the defined number of patches are collected."
   ]
  },
  {
   "cell_type": "code",
   "execution_count": null,
   "metadata": {},
   "outputs": [],
   "source": [
    "for i in range(num_patches):\n",
    "    # choose scenes randomly\n",
    "    name, image, label = random.choice(list_data)\n",
    "\n",
    "    # choose crop position randomly\n",
    "    height, width, _ = image.shape\n",
    "    ulx = random.randrange(0, width - patch_size + 1)\n",
    "    uly = random.randrange(0, height - patch_size + 1)\n",
    "\n",
    "    # crop\n",
    "    image_patch = image[uly:uly+patch_size, ulx:ulx+patch_size, :]\n",
    "    label_patch = label[uly:uly+patch_size, ulx:ulx+patch_size]\n",
    "\n",
    "    # contain\n",
    "    list_image_patches.append(image_patch)\n",
    "    list_label_patches.append(label_patch)\n"
   ]
  },
  {
   "cell_type": "markdown",
   "metadata": {},
   "source": [
    "Convert place holder to ndarray"
   ]
  },
  {
   "cell_type": "code",
   "execution_count": null,
   "metadata": {},
   "outputs": [],
   "source": [
    "npy_image_patches = np.array(list_image_patches)\n",
    "npy_label_patches = np.array(list_label_patches)\n",
    "\n",
    "print(npy_image_patches.shape)\n",
    "print(npy_label_patches.shape)"
   ]
  },
  {
   "cell_type": "markdown",
   "metadata": {},
   "source": [
    "Check the cropped patch pairs"
   ]
  },
  {
   "cell_type": "code",
   "execution_count": null,
   "metadata": {},
   "outputs": [],
   "source": [
    "from matplotlib.gridspec import GridSpec\n",
    "grid = GridSpec(nrows=2, ncols=10)\n",
    "\n",
    "fig = plt.figure(figsize=(20,4))\n",
    "\n",
    "for i in range(10):\n",
    "    idx = random.randrange(len(npy_image_patches))\n",
    "    image_patch = npy_image_patches[idx]\n",
    "    label_patch = npy_label_patches[idx]\n",
    "    \n",
    "    ax = fig.add_subplot(grid[0,i])\n",
    "    ax.imshow(image_patch, interpolation='none')\n",
    "    ax.set_xticks([])\n",
    "    ax.set_yticks([])\n",
    "    ax.set_title('ID:%d' % idx)\n",
    "\n",
    "    ax = fig.add_subplot(grid[1,i])\n",
    "    ax.imshow(label_patch, interpolation='none')\n",
    "    ax.set_xticks([])\n",
    "    ax.set_yticks([])\n",
    "fig.show()\n"
   ]
  },
  {
   "cell_type": "markdown",
   "metadata": {},
   "source": [
    "Finally, implement the cropping code as function so that we can reuse later.<br><br>\n",
    "**Input**: \n",
    "- list of scenes (name, image, label)\n",
    "- number of patches to crop\n",
    "- size of the patches\n",
    "\n",
    "**Output**: \n",
    "- cropped image patches (ndarray)\n",
    "- cropped label patches (ndarray) "
   ]
  },
  {
   "cell_type": "code",
   "execution_count": 5,
   "metadata": {},
   "outputs": [],
   "source": [
    "def random_crop(list_data, num_patches, patch_size):\n",
    "    list_image_patches = []\n",
    "    list_label_patches = []\n",
    "\n",
    "    for i in range(num_patches):\n",
    "        # choose scenes randomly\n",
    "        name, image, label = random.choice(list_data)\n",
    "\n",
    "        # choose crop position randomly\n",
    "        height, width, _ = image.shape\n",
    "        ulx = random.randrange(0, width - patch_size + 1)\n",
    "        uly = random.randrange(0, height - patch_size + 1)\n",
    "\n",
    "        # crop\n",
    "        image_patch = image[uly:uly+patch_size, ulx:ulx+patch_size, :]\n",
    "        label_patch = label[uly:uly+patch_size, ulx:ulx+patch_size]\n",
    "\n",
    "        # contain\n",
    "        list_image_patches.append(image_patch)\n",
    "        list_label_patches.append(label_patch)\n",
    "    \n",
    "    npy_image_patches =  np.array(list_image_patches)\n",
    "    npy_label_patches =  np.array(list_label_patches)\n",
    "\n",
    "    return npy_image_patches, npy_label_patches\n",
    "    "
   ]
  },
  {
   "cell_type": "markdown",
   "metadata": {},
   "source": [
    "## Normalization\n",
    "Another pre-processing that is necessary is normalization of the cropped patches. Usually, the input images for neural networks are normalized. Simple but widely used methods is range adjustments. The methods adjust the range of pixel value to \\[0,1\\] or \\[-1,1\\]. For example, if we have a 8bit image, dividing each pixel value by 255 results in the pixel values of range \\[0,1\\]. For ground-based images, these methods are widely used. However, for remote sensing images, we recommend to normalize each band to have zero mean and unit variance. \n",
    "\n",
    "### Why we need normalization?\n",
    "There are mainly two reasons.\n",
    "1. **For fast training and good convergence**. The initialization of neural network parameters assumes normalized inputs. Therefore, without normalization, the initial parameter value will be far from optimal, which prolongs training time or even worse the training is not converge. \n",
    "2. **For robustness**. To normalize the influence of acquisition conditions (e.g. lighting conditions or sensors).\n",
    "\n",
    "In the following, we demonstrate the normalization."
   ]
  },
  {
   "cell_type": "markdown",
   "metadata": {},
   "source": [
    "Calculate band-wise mean and std"
   ]
  },
  {
   "cell_type": "code",
   "execution_count": 10,
   "metadata": {},
   "outputs": [],
   "source": [
    "mean1 = np.mean(image1, axis=(0,1), keepdims=True)\n",
    "mean2 = np.mean(image2, axis=(0,1), keepdims=True)\n",
    "std1 = np.std(image1, axis=(0,1), keepdims=True)\n",
    "std2 = np.std(image2, axis=(0,1), keepdims=True)"
   ]
  },
  {
   "cell_type": "markdown",
   "metadata": {},
   "source": [
    "Normalize original image"
   ]
  },
  {
   "cell_type": "code",
   "execution_count": null,
   "metadata": {},
   "outputs": [],
   "source": [
    "image1_normalized = (image1 - mean1) / std1\n",
    "image2_normalized = (image2 - mean2) / std2\n",
    "\n",
    "list_data_normalized = [\n",
    "    ['top_mosaic_09cm_area21', image1_normalized, label1],\n",
    "    ['top_mosaic_09cm_area7' , image2_normalized, label2],\n",
    "]"
   ]
  },
  {
   "cell_type": "markdown",
   "metadata": {},
   "source": [
    "Random crop using normalized images"
   ]
  },
  {
   "cell_type": "code",
   "execution_count": null,
   "metadata": {},
   "outputs": [],
   "source": [
    "npy_image_patches, npy_label_patches = random_crop(list_data_normalized, num_patches=750, patch_size=256)"
   ]
  },
  {
   "cell_type": "markdown",
   "metadata": {},
   "source": [
    "Now, we have completed pre-processing for training data. Finally, let's save the cropped patches as numpy file."
   ]
  },
  {
   "cell_type": "code",
   "execution_count": null,
   "metadata": {},
   "outputs": [],
   "source": [
    "#  Set output directory for cropped patches\n",
    "import os\n",
    "output_dir_train = './dataset/isprs_vaihingen/train/patches/'\n",
    "if not os.path.isdir(output_dir_train):\n",
    "    os.mkdir(output_dir_train)"
   ]
  },
  {
   "cell_type": "markdown",
   "metadata": {},
   "source": [
    "Save patches as numpy file"
   ]
  },
  {
   "cell_type": "code",
   "execution_count": null,
   "metadata": {},
   "outputs": [],
   "source": [
    "np.save(output_dir_train + '/image.npy', npy_image_patches)\n",
    "np.save(output_dir_train + '/label.npy', npy_label_patches)"
   ]
  },
  {
   "cell_type": "markdown",
   "metadata": {},
   "source": [
    "### Pre-process validation patches\n",
    "Pre-process validation patches in the same way as training patches"
   ]
  },
  {
   "cell_type": "code",
   "execution_count": null,
   "metadata": {},
   "outputs": [],
   "source": [
    "# set file path\n",
    "fpath_val_image = './dataset/isprs_vaihingen/val/image/top_mosaic_09cm_area11.tif'\n",
    "fpath_val_label = './dataset/isprs_vaihingen/val/label/top_mosaic_09cm_area11.tif'\n",
    "\n",
    "# pre-load images and labels\n",
    "image = np.array(Image.open(fpath_val_image))\n",
    "label = np.array(Image.open(fpath_val_label))\n",
    "\n",
    "# normalize\n",
    "mean = np.mean(image1, axis=(0,1), keepdims=True)\n",
    "std = np.std(image1, axis=(0,1), keepdims=True)\n",
    "image_normalized = (image - mean) / std\n",
    "\n",
    "# to list\n",
    "list_data_normalized = [\n",
    "    ['top_mosaic_09cm_area11', image_normalized, label],\n",
    "]\n",
    "\n",
    "# cropping\n",
    "npy_image_patches, npy_label_patches = random_crop(list_data_normalized, num_patches=100, patch_size=256)\n",
    "\n",
    "# save\n",
    "output_dir_val = './dataset/isprs_vaihingen/val/patches/'\n",
    "if not os.path.isdir(output_dir_val):\n",
    "    os.mkdir(output_dir_val)\n",
    "np.save(output_dir_val + '/image.npy', npy_image_patches)\n",
    "np.save(output_dir_val + '/label.npy', npy_label_patches)"
   ]
  },
  {
   "cell_type": "markdown",
   "metadata": {},
   "source": [
    "### Pre-process test patches for prediction"
   ]
  },
  {
   "cell_type": "markdown",
   "metadata": {},
   "source": [
    "Test patches are not randomly created.  "
   ]
  },
  {
   "cell_type": "code",
   "execution_count": null,
   "metadata": {},
   "outputs": [],
   "source": [
    "from PIL import Image\n",
    "import numpy as np\n",
    "import os\n",
    "\n",
    "fpath_test_image = './dataset/isprs_vaihingen/test/image/top_mosaic_09cm_area30.tif'\n",
    "fpath_test_label = './dataset/isprs_vaihingen/test/label/top_mosaic_09cm_area30.tif'\n",
    "image = np.array(Image.open(fpath_test_image))\n",
    "label = np.array(Image.open(fpath_test_label))\n",
    "\n",
    "# Normalize\n",
    "mean = np.mean(image, axis=(0,1), keepdims=True)\n",
    "std = np.std(image, axis=(0,1), keepdims=True)\n",
    "image = (image - mean) / std\n",
    "\n",
    "patch_size = 256\n",
    "stride = 256\n",
    "height, width, _ = image.shape\n",
    "\n",
    "num_tiles_x = (width - patch_size) // stride + 1\n",
    "num_tiles_y = (height - patch_size) // stride + 1\n",
    "\n",
    "list_image_patches = []\n",
    "list_label_patches = []\n",
    "for iy in range(num_tiles_y):\n",
    "    for ix in range(num_tiles_x):\n",
    "        ulx = ix * stride\n",
    "        uly = iy * stride\n",
    "        lrx = ulx + patch_size\n",
    "        lry = uly + patch_size\n",
    "            \n",
    "        image_patch = image[uly:lry, ulx:lrx, :]\n",
    "        label_patch = label[uly:lry, ulx:lrx]\n",
    "        \n",
    "        list_image_patches.append(image_patch)\n",
    "        list_label_patches.append(label_patch)\n",
    "\n",
    "npy_image_patches = np.array(list_image_patches)\n",
    "npy_label_patches = np.array(list_label_patches)\n",
    "\n",
    "# save\n",
    "output_dir_test = './dataset/isprs_vaihingen/test/patches/'\n",
    "if not os.path.isdir(output_dir_test):\n",
    "    os.mkdir(output_dir_test)\n",
    "np.save(output_dir_test + '/image.npy', npy_image_patches)\n",
    "np.save(output_dir_test + '/label.npy', npy_label_patches)\n",
    "\n",
    "print(npy_image_patches.shape)\n",
    "print(npy_label_patches.shape)\n"
   ]
  }
 ],
 "metadata": {
  "kernelspec": {
   "display_name": "Python 3",
   "language": "python",
   "name": "python3"
  },
  "language_info": {
   "codemirror_mode": {
    "name": "ipython",
    "version": 3
   },
   "file_extension": ".py",
   "mimetype": "text/x-python",
   "name": "python",
   "nbconvert_exporter": "python",
   "pygments_lexer": "ipython3",
   "version": "3.6.6"
  }
 },
 "nbformat": 4,
 "nbformat_minor": 1
}
