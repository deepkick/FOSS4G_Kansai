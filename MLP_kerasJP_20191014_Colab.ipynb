{
  "nbformat": 4,
  "nbformat_minor": 0,
  "metadata": {
    "kernelspec": {
      "name": "python3",
      "display_name": "Python 3"
    },
    "language_info": {
      "codemirror_mode": {
        "name": "ipython",
        "version": 3
      },
      "file_extension": ".py",
      "mimetype": "text/x-python",
      "name": "python",
      "nbconvert_exporter": "python",
      "pygments_lexer": "ipython3",
      "version": "3.6.0"
    },
    "colab": {
      "name": "MLP_kerasJP.ipynb",
      "provenance": [],
      "private_outputs": true,
      "collapsed_sections": [],
      "include_colab_link": true
    },
    "accelerator": "GPU"
  },
  "cells": [
    {
      "cell_type": "markdown",
      "metadata": {
        "id": "view-in-github",
        "colab_type": "text"
      },
      "source": [
        "<a href=\"https://colab.research.google.com/github/deepkick/FOSS4G_Kansai/blob/master/MLP_kerasJP_20191014_Colab.ipynb\" target=\"_parent\"><img src=\"https://colab.research.google.com/assets/colab-badge.svg\" alt=\"Open In Colab\"/></a>"
      ]
    },
    {
      "cell_type": "markdown",
      "metadata": {
        "id": "AquoTWwbZfEI",
        "colab_type": "text"
      },
      "source": [
        "##  衛星画像の多層パーセプトロンの練習"
      ]
    },
    {
      "cell_type": "markdown",
      "metadata": {
        "id": "4auhan_IZfEJ",
        "colab_type": "text"
      },
      "source": [
        "これにはいくつかのコードが必要です。将来、独自のモデルを作成する方法がわかるように、ゆっくりとステップを説明します。"
      ]
    },
    {
      "cell_type": "markdown",
      "metadata": {
        "id": "v1jygIkxZfEK",
        "colab_type": "text"
      },
      "source": [
        "このチュートリアルで説明する手順は次のとおりです。\n",
        "- ライブラリのロード\n",
        "- データのロード\n",
        "- モデルの定義\n",
        "- モデルのコンパイル\n",
        "- モデルの適合\n",
        "- モデルの評価"
      ]
    },
    {
      "cell_type": "markdown",
      "metadata": {
        "id": "6Wk8OFbSZfEK",
        "colab_type": "text"
      },
      "source": [
        "**必要なライブラリをロードする**"
      ]
    },
    {
      "cell_type": "markdown",
      "metadata": {
        "id": "cwmmULlMZ_yO",
        "colab_type": "text"
      },
      "source": [
        "Googleドライブをマウントする"
      ]
    },
    {
      "cell_type": "code",
      "metadata": {
        "id": "TcwKqaOsZzzV",
        "colab_type": "code",
        "colab": {}
      },
      "source": [
        "from google.colab import drive\n",
        "drive.mount('/content/drive')"
      ],
      "execution_count": 0,
      "outputs": []
    },
    {
      "cell_type": "code",
      "metadata": {
        "id": "q5UROEB5aDI6",
        "colab_type": "code",
        "colab": {}
      },
      "source": [
        "import os\n",
        "os.chdir('/content/drive/My Drive/FOSS4G_DeepLearning_HandsOn_datasets/')"
      ],
      "execution_count": 0,
      "outputs": []
    },
    {
      "cell_type": "code",
      "metadata": {
        "id": "XqJntyPzaKNW",
        "colab_type": "code",
        "colab": {}
      },
      "source": [
        "# ignore annoying warnings\n",
        "import warnings\n",
        "warnings.filterwarnings('ignore')"
      ],
      "execution_count": 0,
      "outputs": []
    },
    {
      "cell_type": "markdown",
      "metadata": {
        "id": "6IMRelVlZfEO",
        "colab_type": "text"
      },
      "source": [
        "この演習にはKerasを使用します"
      ]
    },
    {
      "cell_type": "code",
      "metadata": {
        "id": "NEbCP0EDZfEP",
        "colab_type": "code",
        "colab": {}
      },
      "source": [
        "import numpy as np\n",
        "import keras\n",
        "from keras.models import Sequential\n",
        "from keras.layers import Activation, Dense\n",
        "model = Sequential()"
      ],
      "execution_count": 0,
      "outputs": []
    },
    {
      "cell_type": "markdown",
      "metadata": {
        "id": "fCAESYD8ZfER",
        "colab_type": "text"
      },
      "source": [
        "**準備されたデータを読み込む**"
      ]
    },
    {
      "cell_type": "code",
      "metadata": {
        "id": "U0-3ZVA3ZfER",
        "colab_type": "code",
        "colab": {}
      },
      "source": [
        "x_train,y_train = np.load('./isprs_vaihingen/train/patches/image.npy'),np.load('./isprs_vaihingen/train/patches/label.npy')\n",
        "x_test,y_test = np.load('./isprs_vaihingen/val/patches/image.npy'),np.load('./isprs_vaihingen/val/patches/label.npy')"
      ],
      "execution_count": 0,
      "outputs": []
    },
    {
      "cell_type": "code",
      "metadata": {
        "id": "71lXNPxDZfET",
        "colab_type": "code",
        "colab": {}
      },
      "source": [
        "print (x_train.shape)"
      ],
      "execution_count": 0,
      "outputs": []
    },
    {
      "cell_type": "code",
      "metadata": {
        "id": "W8lrozOyZfEV",
        "colab_type": "code",
        "colab": {}
      },
      "source": [
        "from keras import backend as K\n",
        "print (K.image_data_format())"
      ],
      "execution_count": 0,
      "outputs": []
    },
    {
      "cell_type": "code",
      "metadata": {
        "id": "khDYDlqHZfEX",
        "colab_type": "code",
        "colab": {}
      },
      "source": [
        "print (int(y_train.max()))"
      ],
      "execution_count": 0,
      "outputs": []
    },
    {
      "cell_type": "code",
      "metadata": {
        "id": "AvA341UeZfEZ",
        "colab_type": "code",
        "colab": {}
      },
      "source": [
        "num_classes = 5\n",
        "channel = x_train.shape[-1]\n",
        "print (channel)"
      ],
      "execution_count": 0,
      "outputs": []
    },
    {
      "cell_type": "markdown",
      "metadata": {
        "id": "SG8qF4txZfEa",
        "colab_type": "text"
      },
      "source": [
        "ピクセル単位のパーセプトロン学習のために、画像パッチを1Dベクトルに変形します"
      ]
    },
    {
      "cell_type": "code",
      "metadata": {
        "id": "ErDmV8eyZfEb",
        "colab_type": "code",
        "colab": {}
      },
      "source": [
        "x_train = x_train.reshape(x_train.shape[0]*x_train.shape[1]*x_train.shape[2],x_train.shape[3])\n",
        "x_test = x_test.reshape(x_test.shape[0]*x_test.shape[1]*x_test.shape[2],x_test.shape[3])"
      ],
      "execution_count": 0,
      "outputs": []
    },
    {
      "cell_type": "code",
      "metadata": {
        "id": "OGbsYT4lZfEd",
        "colab_type": "code",
        "colab": {}
      },
      "source": [
        "print (x_train.shape)"
      ],
      "execution_count": 0,
      "outputs": []
    },
    {
      "cell_type": "code",
      "metadata": {
        "id": "UBegLWB_ZfEf",
        "colab_type": "code",
        "colab": {}
      },
      "source": [
        "y_train = y_train.reshape(y_train.shape[0]*y_train.shape[1]*y_train.shape[2])\n",
        "y_test = y_test.reshape(y_test.shape[0]*y_test.shape[1]*y_test.shape[2])"
      ],
      "execution_count": 0,
      "outputs": []
    },
    {
      "cell_type": "code",
      "metadata": {
        "id": "iuykkOo_ZfEh",
        "colab_type": "code",
        "colab": {}
      },
      "source": [
        "print (y_train.shape)"
      ],
      "execution_count": 0,
      "outputs": []
    },
    {
      "cell_type": "markdown",
      "metadata": {
        "id": "F3p_Tg-sZfEj",
        "colab_type": "text"
      },
      "source": [
        "**One-hot encoding** カテゴリー機能を数値変数に転送するのに便利です "
      ]
    },
    {
      "cell_type": "markdown",
      "metadata": {
        "id": "LI-17TTTZfEk",
        "colab_type": "text"
      },
      "source": [
        "matplotlibを使用して1つのサンプルをプロットする"
      ]
    },
    {
      "cell_type": "code",
      "metadata": {
        "id": "PxWCiceHZfEk",
        "colab_type": "code",
        "colab": {}
      },
      "source": [
        "y_tra = keras.utils.to_categorical(y_train, num_classes)\n",
        "y_tes = keras.utils.to_categorical(y_test, num_classes)"
      ],
      "execution_count": 0,
      "outputs": []
    },
    {
      "cell_type": "code",
      "metadata": {
        "id": "UEiXT2OsZfEm",
        "colab_type": "code",
        "colab": {}
      },
      "source": [
        "print(y_tra.shape)"
      ],
      "execution_count": 0,
      "outputs": []
    },
    {
      "cell_type": "code",
      "metadata": {
        "id": "iaBbl0kXZfEo",
        "colab_type": "code",
        "colab": {}
      },
      "source": [
        "print(y_tra[0,])"
      ],
      "execution_count": 0,
      "outputs": []
    },
    {
      "cell_type": "markdown",
      "metadata": {
        "id": "R2QdA-CnZfEq",
        "colab_type": "text"
      },
      "source": [
        "**モデルを定義する**"
      ]
    },
    {
      "cell_type": "code",
      "metadata": {
        "id": "ByLvcxUKZfEq",
        "colab_type": "code",
        "colab": {}
      },
      "source": [
        "model = Sequential()\n",
        "model.add(Dense(16, input_dim=(3), activation='relu'))\n",
        "model.add(Dense(8, activation='relu'))\n",
        "model.add(Dense(num_classes, activation='softmax'))\n",
        "model.summary()"
      ],
      "execution_count": 0,
      "outputs": []
    },
    {
      "cell_type": "markdown",
      "metadata": {
        "id": "6rd_jh3SZfEs",
        "colab_type": "text"
      },
      "source": [
        "完全に接続されたレイヤーである密なレイヤーについては既に知っています。 **アクティベーション関数**とは何か？を見てみましょう "
      ]
    },
    {
      "cell_type": "markdown",
      "metadata": {
        "id": "OdqHBbsSZfEt",
        "colab_type": "text"
      },
      "source": [
        "**活性化関数**は、人工ニューラルネットワークの非常に重要な機能です。 彼らは基本的に、ニューロンを活性化すべきかどうかを決定します。 ニューロンが受信している情報が、与えられた情報に関連しているか、無視すべきか"
      ]
    },
    {
      "cell_type": "markdown",
      "metadata": {
        "id": "xmDCX4sfZfEt",
        "colab_type": "text"
      },
      "source": [
        "**ReLU**"
      ]
    },
    {
      "cell_type": "markdown",
      "metadata": {
        "id": "Au_0tueHZfEu",
        "colab_type": "text"
      },
      "source": [
        "<center> $ A(x) = max(0,x) $ <center>"
      ]
    },
    {
      "cell_type": "code",
      "metadata": {
        "id": "hfRgbfKSaRH4",
        "colab_type": "code",
        "colab": {}
      },
      "source": [
        "from IPython.display import Image\n",
        "Image('fig/ReLU.jpeg', width=500, height=300)"
      ],
      "execution_count": 0,
      "outputs": []
    },
    {
      "cell_type": "markdown",
      "metadata": {
        "id": "piuqqiiIZfEv",
        "colab_type": "text"
      },
      "source": [
        "**Sigmoid**"
      ]
    },
    {
      "cell_type": "markdown",
      "metadata": {
        "id": "JdAdr4KcZfEw",
        "colab_type": "text"
      },
      "source": [
        "\\begin{equation*}\n",
        "A(x) = \\frac{1}{(1-e^{-x})}\n",
        "\\end{equation*}"
      ]
    },
    {
      "cell_type": "code",
      "metadata": {
        "id": "FaB-njYPaUWW",
        "colab_type": "code",
        "colab": {}
      },
      "source": [
        "Image('fig/Sigmoid.png')"
      ],
      "execution_count": 0,
      "outputs": []
    },
    {
      "cell_type": "markdown",
      "metadata": {
        "id": "7B6dCnBLZfEy",
        "colab_type": "text"
      },
      "source": [
        "**モデルのコンパイル**"
      ]
    },
    {
      "cell_type": "markdown",
      "metadata": {
        "id": "rYte9lfWZfEz",
        "colab_type": "text"
      },
      "source": [
        "モデルを定義したら、コンパイルする必要があります。 モデルのトレーニング中に言及するいくつかの選択肢があります "
      ]
    },
    {
      "cell_type": "markdown",
      "metadata": {
        "id": "wUAa06KWZfE0",
        "colab_type": "text"
      },
      "source": [
        "- オプティマイザー: 一般的に使用されるモデルをトレーニングする際に重みを更新する特定のアルゴリズムは、**確率的勾配降下（SGD）**です。\n",
        "- 損失関数：最適化はスペースワイトをナビゲートするために使用され、最適化は損失最小化のプロセスとして定義されます（損失関数の一般的な選択には、**バイナリクロスエントロピー**、**カテゴリクロスエントロピー（ソフトマックスクロスエントロイ）**および**平均二乗誤差（MSE）**があります ）\n",
        "- モデルの評価（一般的な選択肢は、**Accuracy(正解率)**、**Precision(適合率)**、**Recall(再現率)**です）"
      ]
    },
    {
      "cell_type": "code",
      "metadata": {
        "id": "U4bqBp89aaYJ",
        "colab_type": "code",
        "colab": {}
      },
      "source": [
        "Image('fig/backpropog.png', width=850,height=350)"
      ],
      "execution_count": 0,
      "outputs": []
    },
    {
      "cell_type": "code",
      "metadata": {
        "id": "jYUTvQUmaeF5",
        "colab_type": "code",
        "colab": {}
      },
      "source": [
        "Image('fig/Metrics.png', width=350,height=200)"
      ],
      "execution_count": 0,
      "outputs": []
    },
    {
      "cell_type": "code",
      "metadata": {
        "id": "ZZlod3C4ZfE3",
        "colab_type": "code",
        "colab": {}
      },
      "source": [
        "SGD = keras.optimizers.SGD(lr=0.01)"
      ],
      "execution_count": 0,
      "outputs": []
    },
    {
      "cell_type": "code",
      "metadata": {
        "id": "YBI5XH_CZfE5",
        "colab_type": "code",
        "colab": {}
      },
      "source": [
        "catergorical = keras.losses.categorical_crossentropy"
      ],
      "execution_count": 0,
      "outputs": []
    },
    {
      "cell_type": "code",
      "metadata": {
        "id": "XNjgomJFZfE7",
        "colab_type": "code",
        "colab": {}
      },
      "source": [
        "accuracy = ['accuracy']"
      ],
      "execution_count": 0,
      "outputs": []
    },
    {
      "cell_type": "code",
      "metadata": {
        "id": "5UIBQGSMZfE9",
        "colab_type": "code",
        "colab": {}
      },
      "source": [
        "model.compile(loss = catergorical, optimizer = SGD,\n",
        "              metrics = accuracy)"
      ],
      "execution_count": 0,
      "outputs": []
    },
    {
      "cell_type": "markdown",
      "metadata": {
        "id": "luQtX0q9ZfE_",
        "colab_type": "text"
      },
      "source": [
        "**Fit Model**"
      ]
    },
    {
      "cell_type": "markdown",
      "metadata": {
        "id": "HxxmZXMnZfFA",
        "colab_type": "text"
      },
      "source": [
        "モデルをコンパイルしたら、Kerasの`fit()`関数でトレーニングできます。この関数は、エポック、batch_sizeなどのいくつかのパラメーターを指定します。"
      ]
    },
    {
      "cell_type": "code",
      "metadata": {
        "id": "Q7Ey45z0ZfFB",
        "colab_type": "code",
        "colab": {}
      },
      "source": [
        "BATCH_SIZE= 30000\n",
        "EPOCHS = 1"
      ],
      "execution_count": 0,
      "outputs": []
    },
    {
      "cell_type": "code",
      "metadata": {
        "id": "qfry1Cg-ZfFD",
        "colab_type": "code",
        "colab": {}
      },
      "source": [
        "history = model.fit(x_train, y_tra,\n",
        "                    batch_size=BATCH_SIZE, epochs=EPOCHS, shuffle=True, validation_data = (x_test, y_tes))"
      ],
      "execution_count": 0,
      "outputs": []
    },
    {
      "cell_type": "code",
      "metadata": {
        "id": "--_bny0ZZfFF",
        "colab_type": "code",
        "colab": {}
      },
      "source": [
        "score = model.evaluate(x_test, y_tes)\n",
        "print  (score[1])"
      ],
      "execution_count": 0,
      "outputs": []
    },
    {
      "cell_type": "markdown",
      "metadata": {
        "id": "thon4OBIZfFH",
        "colab_type": "text"
      },
      "source": [
        "トレーニングと評価中の精度と損失を示すプロットグラフ"
      ]
    },
    {
      "cell_type": "code",
      "metadata": {
        "id": "O9M5kTuDZfFK",
        "colab_type": "code",
        "colab": {}
      },
      "source": [
        "# 1 pochsだけなので、線が引けない\n",
        "%matplotlib inline\n",
        "import matplotlib.pyplot as plt\n",
        "plt.plot(history.history['acc'])\n",
        "plt.plot(history.history['val_acc'])\n",
        "plt.title('model accuracy')\n",
        "plt.ylabel('accuracy')\n",
        "plt.xlabel('epoch')\n",
        "plt.legend(['train', 'test'], loc='upper left')\n",
        "plt.show()"
      ],
      "execution_count": 0,
      "outputs": []
    },
    {
      "cell_type": "code",
      "metadata": {
        "id": "wxa9z6KrZfFM",
        "colab_type": "code",
        "colab": {}
      },
      "source": [
        "# 1 pochsだけなので、線が引けない\n",
        "plt.plot(history.history['loss'])\n",
        "plt.plot(history.history['val_loss'])\n",
        "plt.title('model loss')\n",
        "plt.ylabel('loss')\n",
        "plt.xlabel('epoch')\n",
        "plt.legend(['train', 'test'], loc='upper left')\n",
        "plt.show()"
      ],
      "execution_count": 0,
      "outputs": []
    },
    {
      "cell_type": "markdown",
      "metadata": {
        "id": "WeuLHY5PZfFO",
        "colab_type": "text"
      },
      "source": [
        "テストデータを使用してモデルのパフォーマンスを評価する"
      ]
    },
    {
      "cell_type": "markdown",
      "metadata": {
        "id": "fMzXhNTPZfFO",
        "colab_type": "text"
      },
      "source": [
        "**より多くの隠れ層（より深いネットワーク）でKerasの単純なネットを改善すると、**\n",
        "定義されたネットワークにより密度の高い層が追加されます"
      ]
    },
    {
      "cell_type": "code",
      "metadata": {
        "id": "sbpEU8OdZfFP",
        "colab_type": "code",
        "colab": {}
      },
      "source": [
        "model = Sequential()\n",
        "model.add(Dense(32, input_dim=(3), activation='relu'))\n",
        "model.add(Dense(32, activation='relu'))\n",
        "# adding three more layers\n",
        "model.add(Dense(16, activation='relu'))\n",
        "model.add(Dense(16, activation='relu'))\n",
        "model.add(Dense(8, activation='relu'))\n",
        "model.add(Dense(num_classes, activation='softmax'))\n",
        "model.summary()"
      ],
      "execution_count": 0,
      "outputs": []
    },
    {
      "cell_type": "markdown",
      "metadata": {
        "id": "uRv4aiNKZfFR",
        "colab_type": "text"
      },
      "source": [
        "**コンパイル、トレーニング、モデルのパフォーマンスを検証する**"
      ]
    },
    {
      "cell_type": "code",
      "metadata": {
        "id": "mYmP8VyLZfFS",
        "colab_type": "code",
        "colab": {}
      },
      "source": [
        "model.compile(loss = catergorical, optimizer = SGD,\n",
        "              metrics = accuracy)\n",
        "\n",
        "history1 = model.fit(x_train, y_tra,\n",
        "                    batch_size=BATCH_SIZE, epochs=EPOCHS, validation_data = (x_test, y_tes))\n",
        "\n",
        "# compare and mention the accuracy improvements"
      ],
      "execution_count": 0,
      "outputs": []
    },
    {
      "cell_type": "code",
      "metadata": {
        "id": "SM_nDSZ6ZfFU",
        "colab_type": "code",
        "colab": {}
      },
      "source": [
        "score1 = model.evaluate(x_test, y_tes)\n",
        "print  (score1[1])"
      ],
      "execution_count": 0,
      "outputs": []
    },
    {
      "cell_type": "markdown",
      "metadata": {
        "id": "iFKWWWpWZfFV",
        "colab_type": "text"
      },
      "source": [
        "**Kerasでいくつかのハイパーチューニングパラメーターを使用してさまざまなオプティマイザー機能をテストする**"
      ]
    },
    {
      "cell_type": "markdown",
      "metadata": {
        "id": "wyQYOHCIZfFY",
        "colab_type": "text"
      },
      "source": [
        "**確率的勾配降下（SGD）**として知られる一般的なオプティマイザーに注目しましょう**\n",
        "Gradient Descent 最適化アルゴリズムを使用して、各エポックの後に重みが増分的に更新されます（トレーニングデータセットを渡す）。\n",
        "\n",
        "損失関数J(⋅)、二乗誤差の合計（SSE）は、次のように記述できます。:"
      ]
    },
    {
      "cell_type": "code",
      "metadata": {
        "id": "XMncWZLIaogm",
        "colab_type": "code",
        "colab": {}
      },
      "source": [
        "Image('fig/loss_sgd1.png', width=350,height=100)"
      ],
      "execution_count": 0,
      "outputs": []
    },
    {
      "cell_type": "markdown",
      "metadata": {
        "id": "xiY1iXoeZfFa",
        "colab_type": "text"
      },
      "source": [
        "重みの更新の大きさと方向は、コスト勾配の反対方向に一歩を踏み出すことによって計算されます"
      ]
    },
    {
      "cell_type": "code",
      "metadata": {
        "id": "UkljkWy3auxU",
        "colab_type": "code",
        "colab": {}
      },
      "source": [
        "Image('fig/learning_sgd2.png', width=250,height=100)"
      ],
      "execution_count": 0,
      "outputs": []
    },
    {
      "cell_type": "markdown",
      "metadata": {
        "id": "UUTiyGgqZfFb",
        "colab_type": "text"
      },
      "source": [
        "ここで、ηは学習率、$ \\frac{\\sigma J}{\\sigma wj} $は偏微分です"
      ]
    },
    {
      "cell_type": "code",
      "metadata": {
        "id": "TvfMgFU3axsj",
        "colab_type": "code",
        "colab": {}
      },
      "source": [
        "Image('fig/SGD.png', width=650,height=300)"
      ],
      "execution_count": 0,
      "outputs": []
    },
    {
      "cell_type": "markdown",
      "metadata": {
        "id": "-RLPQyq8ZfFb",
        "colab_type": "text"
      },
      "source": [
        "基本的に、GDの最適化は、山から谷に登りたいハイカー（体重係数）であると考えることができます。また、各ステップは、勾配の勾配（勾配）とハイカーの脚の長さ（学習率）によって決まります。 学習率（η）が小さすぎると、ハイカーの動きが遅くなることに注意してください。 ηが高すぎる場合、ハイカーは値[1]を見逃す可能性があります。 "
      ]
    },
    {
      "cell_type": "markdown",
      "metadata": {
        "id": "a7Vg5gzvZfFc",
        "colab_type": "text"
      },
      "source": [
        "いくつかの学習レート調整テクニックが利用できます。**RMSprop**、**Adam**、**Adadelta**などの高度な最適化テクニックは、パラメータを自動的に調整します。"
      ]
    },
    {
      "cell_type": "code",
      "metadata": {
        "id": "3ChugU3NZfFc",
        "colab_type": "code",
        "colab": {}
      },
      "source": [
        "SGD = keras.optimizers.SGD(lr=0.01, decay = 0.005)"
      ],
      "execution_count": 0,
      "outputs": []
    },
    {
      "cell_type": "code",
      "metadata": {
        "id": "IJnpG_SdZfFe",
        "colab_type": "code",
        "colab": {}
      },
      "source": [
        "model.compile(loss = catergorical, optimizer = SGD,\n",
        "              metrics = accuracy)"
      ],
      "execution_count": 0,
      "outputs": []
    },
    {
      "cell_type": "code",
      "metadata": {
        "id": "npmvLwEXZfFg",
        "colab_type": "code",
        "colab": {}
      },
      "source": [
        "history1 = model.fit(x_train, y_tra,\n",
        "                    batch_size=BATCH_SIZE, epochs=EPOCHS, validation_data = (x_test, y_tes))"
      ],
      "execution_count": 0,
      "outputs": []
    },
    {
      "cell_type": "markdown",
      "metadata": {
        "id": "cH1CYEoxZfFi",
        "colab_type": "text"
      },
      "source": [
        "他の高度なテクニックを使用してトレーニングする"
      ]
    },
    {
      "cell_type": "code",
      "metadata": {
        "id": "OjecREubZfFk",
        "colab_type": "code",
        "colab": {}
      },
      "source": [
        "SGD = keras.optimizers.RMSprop(lr=0.001, rho=0.9, epsilon=None, decay=0.0)"
      ],
      "execution_count": 0,
      "outputs": []
    },
    {
      "cell_type": "code",
      "metadata": {
        "id": "GQrvb3uNZfFn",
        "colab_type": "code",
        "colab": {}
      },
      "source": [
        "#SGD = keras.optimizers.Adadelta(lr=1.0, rho=0.95, epsilon=None, decay=0.0)"
      ],
      "execution_count": 0,
      "outputs": []
    },
    {
      "cell_type": "code",
      "metadata": {
        "id": "iuHWCWQmZfFp",
        "colab_type": "code",
        "colab": {}
      },
      "source": [
        "model.compile(loss = catergorical, optimizer = SGD,\n",
        "              metrics = accuracy)\n",
        "history1 = model.fit(x_train, y_tra,\n",
        "                    batch_size=BATCH_SIZE, epochs=EPOCHS, validation_data = (x_test, y_tes))"
      ],
      "execution_count": 0,
      "outputs": []
    },
    {
      "cell_type": "markdown",
      "metadata": {
        "id": "FqS7fMANZfFq",
        "colab_type": "text"
      },
      "source": [
        "**見えないデータのモデル予測**"
      ]
    },
    {
      "cell_type": "code",
      "metadata": {
        "id": "C8e4cwHaZfFr",
        "colab_type": "code",
        "colab": {}
      },
      "source": [
        "x_pred,y_pred = np.load('./isprs_vaihingen/test/patches/image.npy'),np.load('./dataset/isprs_vaihingen/test/patches/label.npy')"
      ],
      "execution_count": 0,
      "outputs": []
    },
    {
      "cell_type": "code",
      "metadata": {
        "id": "Ko6H3QrWZfFs",
        "colab_type": "code",
        "colab": {}
      },
      "source": [
        "print (x_pred.shape)"
      ],
      "execution_count": 0,
      "outputs": []
    },
    {
      "cell_type": "code",
      "metadata": {
        "id": "ZxVTVJEKZfFu",
        "colab_type": "code",
        "colab": {}
      },
      "source": [
        "x_pred = x_pred.reshape(x_pred.shape[0]*x_pred.shape[1]*x_pred.shape[2],x_pred.shape[3])"
      ],
      "execution_count": 0,
      "outputs": []
    },
    {
      "cell_type": "code",
      "metadata": {
        "id": "zbC-qSeNZfFx",
        "colab_type": "code",
        "colab": {}
      },
      "source": [
        "print (x_pred.shape)"
      ],
      "execution_count": 0,
      "outputs": []
    },
    {
      "cell_type": "code",
      "metadata": {
        "id": "r8IuqOc0ZfF0",
        "colab_type": "code",
        "colab": {}
      },
      "source": [
        "Predict_prob = model.predict(x_pred)"
      ],
      "execution_count": 0,
      "outputs": []
    },
    {
      "cell_type": "code",
      "metadata": {
        "id": "5tI5ZU-DZfF1",
        "colab_type": "code",
        "colab": {}
      },
      "source": [
        "Predict_prob.shape"
      ],
      "execution_count": 0,
      "outputs": []
    },
    {
      "cell_type": "code",
      "metadata": {
        "id": "9wvATJGnZfF2",
        "colab_type": "code",
        "colab": {}
      },
      "source": [
        "Predict_prob[0]"
      ],
      "execution_count": 0,
      "outputs": []
    },
    {
      "cell_type": "code",
      "metadata": {
        "id": "wh-O1xysZfF3",
        "colab_type": "code",
        "colab": {}
      },
      "source": [
        "Predict_class = np.argmax(Predict_prob,axis=-1)"
      ],
      "execution_count": 0,
      "outputs": []
    },
    {
      "cell_type": "code",
      "metadata": {
        "id": "Yx4T28xqZfF5",
        "colab_type": "code",
        "colab": {}
      },
      "source": [
        "Predict_class.shape"
      ],
      "execution_count": 0,
      "outputs": []
    },
    {
      "cell_type": "code",
      "metadata": {
        "id": "ZOvtJwfSZfF6",
        "colab_type": "code",
        "colab": {}
      },
      "source": [
        "Predict_class = Predict_class.reshape(70,256,256)"
      ],
      "execution_count": 0,
      "outputs": []
    },
    {
      "cell_type": "code",
      "metadata": {
        "id": "q5KcoKIKZfF7",
        "colab_type": "code",
        "colab": {}
      },
      "source": [
        "%matplotlib  inline\n",
        "import matplotlib.pyplot as  plt\n",
        "fig = plt.figure()\n",
        "ax = fig.add_subplot(121)\n",
        "ax.imshow(Predict_class[4], interpolation='none')\n",
        "ax.set_xticks([])\n",
        "ax.set_yticks([])\n",
        "ax.set_title('Predict')\n",
        "fig.show()\n",
        "\n",
        "ax = fig.add_subplot(122)\n",
        "ax.imshow(y_pred[4], interpolation='none')\n",
        "ax.set_xticks([])\n",
        "ax.set_yticks([])\n",
        "ax.set_title('Label')\n",
        "\n",
        "fig.suptitle('Scene: top_mosaic_09cm_area1')\n",
        "fig.show()\n"
      ],
      "execution_count": 0,
      "outputs": []
    },
    {
      "cell_type": "markdown",
      "metadata": {
        "id": "3Rfacm-lZfF8",
        "colab_type": "text"
      },
      "source": [
        "**参照**"
      ]
    },
    {
      "cell_type": "markdown",
      "metadata": {
        "id": "adBZGhQgZfF8",
        "colab_type": "text"
      },
      "source": [
        "[1] Bottou, Léon. \"Stochastic gradient descent tricks.\" Neural Networks: Tricks of the Trade. Springer Berlin Heidelberg, 2012. 421-436."
      ]
    }
  ]
}